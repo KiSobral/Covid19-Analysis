{
  "nbformat": 4,
  "nbformat_minor": 0,
  "metadata": {
    "colab": {
      "name": "CovidAnalysis.ipynb",
      "provenance": [],
      "mount_file_id": "1qIWqH_v-uIRwf5kmfL-oVnxBBVBocyVe",
      "authorship_tag": "ABX9TyPBJobktPEnlhw0MZ8P0/+u",
      "include_colab_link": true
    },
    "kernelspec": {
      "name": "python3",
      "display_name": "Python 3"
    }
  },
  "cells": [
    {
      "cell_type": "markdown",
      "metadata": {
        "id": "view-in-github",
        "colab_type": "text"
      },
      "source": [
        "<a href=\"https://colab.research.google.com/github/KiSobral/Covid19-Analysis/blob/main/CovidAnalysis.ipynb\" target=\"_parent\"><img src=\"https://colab.research.google.com/assets/colab-badge.svg\" alt=\"Open In Colab\"/></a>"
      ]
    },
    {
      "cell_type": "code",
      "metadata": {
        "id": "czkNSfgPvCn0"
      },
      "source": [
        "import pandas as pd\n",
        "import matplotlib.pyplot as plt\n",
        "import matplotlib.ticker as ticker"
      ],
      "execution_count": 1,
      "outputs": []
    },
    {
      "cell_type": "code",
      "metadata": {
        "id": "zyd0dDyTvFwE"
      },
      "source": [
        "states_df = pd.read_csv('/content/drive/MyDrive/Bootcamp/covid19-8be008a6f7a14dec9e22a3c1696abcb4.csv')"
      ],
      "execution_count": 2,
      "outputs": []
    },
    {
      "cell_type": "code",
      "metadata": {
        "id": "cy-1o6bjvZ5c",
        "colab": {
          "base_uri": "https://localhost:8080/"
        },
        "outputId": "a5871248-b773-43f6-a466-f49d79cd2df9"
      },
      "source": [
        "states_df.columns"
      ],
      "execution_count": 3,
      "outputs": [
        {
          "output_type": "execute_result",
          "data": {
            "text/plain": [
              "Index(['date', 'state', 'city', 'place_type', 'confirmed', 'deaths', 'is_last',\n",
              "       'estimated_population', 'city_ibge_code',\n",
              "       'confirmed_per_100k_inhabitants', 'death_rate'],\n",
              "      dtype='object')"
            ]
          },
          "metadata": {
            "tags": []
          },
          "execution_count": 3
        }
      ]
    },
    {
      "cell_type": "code",
      "metadata": {
        "id": "dAi0LoVEvcl_",
        "colab": {
          "base_uri": "https://localhost:8080/",
          "height": 206
        },
        "outputId": "1555c366-49ad-460f-da33-b81c4fe59190"
      },
      "source": [
        "states_df.head()"
      ],
      "execution_count": 4,
      "outputs": [
        {
          "output_type": "execute_result",
          "data": {
            "text/html": [
              "<div>\n",
              "<style scoped>\n",
              "    .dataframe tbody tr th:only-of-type {\n",
              "        vertical-align: middle;\n",
              "    }\n",
              "\n",
              "    .dataframe tbody tr th {\n",
              "        vertical-align: top;\n",
              "    }\n",
              "\n",
              "    .dataframe thead th {\n",
              "        text-align: right;\n",
              "    }\n",
              "</style>\n",
              "<table border=\"1\" class=\"dataframe\">\n",
              "  <thead>\n",
              "    <tr style=\"text-align: right;\">\n",
              "      <th></th>\n",
              "      <th>date</th>\n",
              "      <th>state</th>\n",
              "      <th>city</th>\n",
              "      <th>place_type</th>\n",
              "      <th>confirmed</th>\n",
              "      <th>deaths</th>\n",
              "      <th>is_last</th>\n",
              "      <th>estimated_population</th>\n",
              "      <th>city_ibge_code</th>\n",
              "      <th>confirmed_per_100k_inhabitants</th>\n",
              "      <th>death_rate</th>\n",
              "    </tr>\n",
              "  </thead>\n",
              "  <tbody>\n",
              "    <tr>\n",
              "      <th>0</th>\n",
              "      <td>2020-11-11</td>\n",
              "      <td>AC</td>\n",
              "      <td>NaN</td>\n",
              "      <td>state</td>\n",
              "      <td>32113</td>\n",
              "      <td>705</td>\n",
              "      <td>True</td>\n",
              "      <td>894470</td>\n",
              "      <td>12</td>\n",
              "      <td>3590.17072</td>\n",
              "      <td>0.0220</td>\n",
              "    </tr>\n",
              "    <tr>\n",
              "      <th>1</th>\n",
              "      <td>2020-11-11</td>\n",
              "      <td>AL</td>\n",
              "      <td>NaN</td>\n",
              "      <td>state</td>\n",
              "      <td>92040</td>\n",
              "      <td>2282</td>\n",
              "      <td>True</td>\n",
              "      <td>3351543</td>\n",
              "      <td>27</td>\n",
              "      <td>2746.19780</td>\n",
              "      <td>0.0248</td>\n",
              "    </tr>\n",
              "    <tr>\n",
              "      <th>2</th>\n",
              "      <td>2020-11-11</td>\n",
              "      <td>AM</td>\n",
              "      <td>NaN</td>\n",
              "      <td>state</td>\n",
              "      <td>167486</td>\n",
              "      <td>4655</td>\n",
              "      <td>True</td>\n",
              "      <td>4207714</td>\n",
              "      <td>13</td>\n",
              "      <td>3980.45114</td>\n",
              "      <td>0.0278</td>\n",
              "    </tr>\n",
              "    <tr>\n",
              "      <th>3</th>\n",
              "      <td>2020-11-11</td>\n",
              "      <td>AP</td>\n",
              "      <td>NaN</td>\n",
              "      <td>state</td>\n",
              "      <td>53790</td>\n",
              "      <td>770</td>\n",
              "      <td>True</td>\n",
              "      <td>861773</td>\n",
              "      <td>16</td>\n",
              "      <td>6241.78293</td>\n",
              "      <td>0.0143</td>\n",
              "    </tr>\n",
              "    <tr>\n",
              "      <th>4</th>\n",
              "      <td>2020-11-11</td>\n",
              "      <td>BA</td>\n",
              "      <td>NaN</td>\n",
              "      <td>state</td>\n",
              "      <td>367669</td>\n",
              "      <td>7859</td>\n",
              "      <td>True</td>\n",
              "      <td>14930634</td>\n",
              "      <td>29</td>\n",
              "      <td>2462.51432</td>\n",
              "      <td>0.0214</td>\n",
              "    </tr>\n",
              "  </tbody>\n",
              "</table>\n",
              "</div>"
            ],
            "text/plain": [
              "         date state  ...  confirmed_per_100k_inhabitants death_rate\n",
              "0  2020-11-11    AC  ...                      3590.17072     0.0220\n",
              "1  2020-11-11    AL  ...                      2746.19780     0.0248\n",
              "2  2020-11-11    AM  ...                      3980.45114     0.0278\n",
              "3  2020-11-11    AP  ...                      6241.78293     0.0143\n",
              "4  2020-11-11    BA  ...                      2462.51432     0.0214\n",
              "\n",
              "[5 rows x 11 columns]"
            ]
          },
          "metadata": {
            "tags": []
          },
          "execution_count": 4
        }
      ]
    },
    {
      "cell_type": "code",
      "metadata": {
        "id": "lSDTB4VZvj3P"
      },
      "source": [
        "states_df = states_df.drop([\"city\", \"place_type\"], axis=1)"
      ],
      "execution_count": 5,
      "outputs": []
    },
    {
      "cell_type": "code",
      "metadata": {
        "id": "8qjMJY5FvnPc",
        "colab": {
          "base_uri": "https://localhost:8080/",
          "height": 206
        },
        "outputId": "db6d8de4-84d4-4b15-dc41-0c6ee854124d"
      },
      "source": [
        "states_df.head()"
      ],
      "execution_count": 6,
      "outputs": [
        {
          "output_type": "execute_result",
          "data": {
            "text/html": [
              "<div>\n",
              "<style scoped>\n",
              "    .dataframe tbody tr th:only-of-type {\n",
              "        vertical-align: middle;\n",
              "    }\n",
              "\n",
              "    .dataframe tbody tr th {\n",
              "        vertical-align: top;\n",
              "    }\n",
              "\n",
              "    .dataframe thead th {\n",
              "        text-align: right;\n",
              "    }\n",
              "</style>\n",
              "<table border=\"1\" class=\"dataframe\">\n",
              "  <thead>\n",
              "    <tr style=\"text-align: right;\">\n",
              "      <th></th>\n",
              "      <th>date</th>\n",
              "      <th>state</th>\n",
              "      <th>confirmed</th>\n",
              "      <th>deaths</th>\n",
              "      <th>is_last</th>\n",
              "      <th>estimated_population</th>\n",
              "      <th>city_ibge_code</th>\n",
              "      <th>confirmed_per_100k_inhabitants</th>\n",
              "      <th>death_rate</th>\n",
              "    </tr>\n",
              "  </thead>\n",
              "  <tbody>\n",
              "    <tr>\n",
              "      <th>0</th>\n",
              "      <td>2020-11-11</td>\n",
              "      <td>AC</td>\n",
              "      <td>32113</td>\n",
              "      <td>705</td>\n",
              "      <td>True</td>\n",
              "      <td>894470</td>\n",
              "      <td>12</td>\n",
              "      <td>3590.17072</td>\n",
              "      <td>0.0220</td>\n",
              "    </tr>\n",
              "    <tr>\n",
              "      <th>1</th>\n",
              "      <td>2020-11-11</td>\n",
              "      <td>AL</td>\n",
              "      <td>92040</td>\n",
              "      <td>2282</td>\n",
              "      <td>True</td>\n",
              "      <td>3351543</td>\n",
              "      <td>27</td>\n",
              "      <td>2746.19780</td>\n",
              "      <td>0.0248</td>\n",
              "    </tr>\n",
              "    <tr>\n",
              "      <th>2</th>\n",
              "      <td>2020-11-11</td>\n",
              "      <td>AM</td>\n",
              "      <td>167486</td>\n",
              "      <td>4655</td>\n",
              "      <td>True</td>\n",
              "      <td>4207714</td>\n",
              "      <td>13</td>\n",
              "      <td>3980.45114</td>\n",
              "      <td>0.0278</td>\n",
              "    </tr>\n",
              "    <tr>\n",
              "      <th>3</th>\n",
              "      <td>2020-11-11</td>\n",
              "      <td>AP</td>\n",
              "      <td>53790</td>\n",
              "      <td>770</td>\n",
              "      <td>True</td>\n",
              "      <td>861773</td>\n",
              "      <td>16</td>\n",
              "      <td>6241.78293</td>\n",
              "      <td>0.0143</td>\n",
              "    </tr>\n",
              "    <tr>\n",
              "      <th>4</th>\n",
              "      <td>2020-11-11</td>\n",
              "      <td>BA</td>\n",
              "      <td>367669</td>\n",
              "      <td>7859</td>\n",
              "      <td>True</td>\n",
              "      <td>14930634</td>\n",
              "      <td>29</td>\n",
              "      <td>2462.51432</td>\n",
              "      <td>0.0214</td>\n",
              "    </tr>\n",
              "  </tbody>\n",
              "</table>\n",
              "</div>"
            ],
            "text/plain": [
              "         date state  ...  confirmed_per_100k_inhabitants  death_rate\n",
              "0  2020-11-11    AC  ...                      3590.17072      0.0220\n",
              "1  2020-11-11    AL  ...                      2746.19780      0.0248\n",
              "2  2020-11-11    AM  ...                      3980.45114      0.0278\n",
              "3  2020-11-11    AP  ...                      6241.78293      0.0143\n",
              "4  2020-11-11    BA  ...                      2462.51432      0.0214\n",
              "\n",
              "[5 rows x 9 columns]"
            ]
          },
          "metadata": {
            "tags": []
          },
          "execution_count": 6
        }
      ]
    },
    {
      "cell_type": "code",
      "metadata": {
        "id": "dYNCxLgYv5se",
        "colab": {
          "base_uri": "https://localhost:8080/",
          "height": 238
        },
        "outputId": "4467d90f-2501-467e-924d-552d417206e5"
      },
      "source": [
        "uf_map = {\n",
        "    'AC': 'Acre',\n",
        "    'AL': 'Alagoas',\n",
        "    'AM': 'Amazonas',\n",
        "    'AP': 'Amapá',\n",
        "    'BA': 'Bahia',\n",
        "    'CE': 'Ceará',\n",
        "    'DF': 'Distrito Federal',\n",
        "    'ES': 'Espírito Santo',\n",
        "    'GO': 'Goiás',\n",
        "    'MA': 'Maranhão',\n",
        "    'MG': 'Minas Gerais',\n",
        "    'MT': 'Mato Grosso',\n",
        "    'PA': 'Pará',\n",
        "    'PB': 'Paraíba',\n",
        "    'PE': 'Pernambuco',\n",
        "    'PI': 'Piauí',\n",
        "    'PR': 'Paraná',\n",
        "    'RJ': 'Rio de Janeiro',\n",
        "    'RO': 'Rondônia',\n",
        "    'RS': 'Rio Grande do Sul',\n",
        "    'SC': 'Santa Catarina',\n",
        "    'SE': 'Sergipe',\n",
        "    'SP': 'São Paulo',\n",
        "    'MS': 'Mato Grosso do Sul',\n",
        "    'RN': 'Rio Grande do Norte',\n",
        "    'RR': 'Roraima',\n",
        "    'TO': 'Tocantins',\n",
        "}\n",
        "\n",
        "states_df['state'] = states_df['state'].apply(lambda x: uf_map[x])\n",
        "states_df = states_df.set_index('state')\n",
        "states_df.head()"
      ],
      "execution_count": 7,
      "outputs": [
        {
          "output_type": "execute_result",
          "data": {
            "text/html": [
              "<div>\n",
              "<style scoped>\n",
              "    .dataframe tbody tr th:only-of-type {\n",
              "        vertical-align: middle;\n",
              "    }\n",
              "\n",
              "    .dataframe tbody tr th {\n",
              "        vertical-align: top;\n",
              "    }\n",
              "\n",
              "    .dataframe thead th {\n",
              "        text-align: right;\n",
              "    }\n",
              "</style>\n",
              "<table border=\"1\" class=\"dataframe\">\n",
              "  <thead>\n",
              "    <tr style=\"text-align: right;\">\n",
              "      <th></th>\n",
              "      <th>date</th>\n",
              "      <th>confirmed</th>\n",
              "      <th>deaths</th>\n",
              "      <th>is_last</th>\n",
              "      <th>estimated_population</th>\n",
              "      <th>city_ibge_code</th>\n",
              "      <th>confirmed_per_100k_inhabitants</th>\n",
              "      <th>death_rate</th>\n",
              "    </tr>\n",
              "    <tr>\n",
              "      <th>state</th>\n",
              "      <th></th>\n",
              "      <th></th>\n",
              "      <th></th>\n",
              "      <th></th>\n",
              "      <th></th>\n",
              "      <th></th>\n",
              "      <th></th>\n",
              "      <th></th>\n",
              "    </tr>\n",
              "  </thead>\n",
              "  <tbody>\n",
              "    <tr>\n",
              "      <th>Acre</th>\n",
              "      <td>2020-11-11</td>\n",
              "      <td>32113</td>\n",
              "      <td>705</td>\n",
              "      <td>True</td>\n",
              "      <td>894470</td>\n",
              "      <td>12</td>\n",
              "      <td>3590.17072</td>\n",
              "      <td>0.0220</td>\n",
              "    </tr>\n",
              "    <tr>\n",
              "      <th>Alagoas</th>\n",
              "      <td>2020-11-11</td>\n",
              "      <td>92040</td>\n",
              "      <td>2282</td>\n",
              "      <td>True</td>\n",
              "      <td>3351543</td>\n",
              "      <td>27</td>\n",
              "      <td>2746.19780</td>\n",
              "      <td>0.0248</td>\n",
              "    </tr>\n",
              "    <tr>\n",
              "      <th>Amazonas</th>\n",
              "      <td>2020-11-11</td>\n",
              "      <td>167486</td>\n",
              "      <td>4655</td>\n",
              "      <td>True</td>\n",
              "      <td>4207714</td>\n",
              "      <td>13</td>\n",
              "      <td>3980.45114</td>\n",
              "      <td>0.0278</td>\n",
              "    </tr>\n",
              "    <tr>\n",
              "      <th>Amapá</th>\n",
              "      <td>2020-11-11</td>\n",
              "      <td>53790</td>\n",
              "      <td>770</td>\n",
              "      <td>True</td>\n",
              "      <td>861773</td>\n",
              "      <td>16</td>\n",
              "      <td>6241.78293</td>\n",
              "      <td>0.0143</td>\n",
              "    </tr>\n",
              "    <tr>\n",
              "      <th>Bahia</th>\n",
              "      <td>2020-11-11</td>\n",
              "      <td>367669</td>\n",
              "      <td>7859</td>\n",
              "      <td>True</td>\n",
              "      <td>14930634</td>\n",
              "      <td>29</td>\n",
              "      <td>2462.51432</td>\n",
              "      <td>0.0214</td>\n",
              "    </tr>\n",
              "  </tbody>\n",
              "</table>\n",
              "</div>"
            ],
            "text/plain": [
              "                date  confirmed  ...  confirmed_per_100k_inhabitants  death_rate\n",
              "state                            ...                                            \n",
              "Acre      2020-11-11      32113  ...                      3590.17072      0.0220\n",
              "Alagoas   2020-11-11      92040  ...                      2746.19780      0.0248\n",
              "Amazonas  2020-11-11     167486  ...                      3980.45114      0.0278\n",
              "Amapá     2020-11-11      53790  ...                      6241.78293      0.0143\n",
              "Bahia     2020-11-11     367669  ...                      2462.51432      0.0214\n",
              "\n",
              "[5 rows x 8 columns]"
            ]
          },
          "metadata": {
            "tags": []
          },
          "execution_count": 7
        }
      ]
    },
    {
      "cell_type": "code",
      "metadata": {
        "id": "oIzmNoYeF7lT"
      },
      "source": [
        "states_df = states_df.sort_values('confirmed')"
      ],
      "execution_count": 8,
      "outputs": []
    },
    {
      "cell_type": "code",
      "metadata": {
        "id": "HMA5m6AECaoP",
        "colab": {
          "base_uri": "https://localhost:8080/",
          "height": 542
        },
        "outputId": "b19b24eb-3a59-4239-d7ec-525fe32ead49"
      },
      "source": [
        "ax = states_df.confirmed.plot(kind=\"barh\", figsize=(12,8))\n",
        "ax.xaxis.set_major_formatter(ticker.StrMethodFormatter(\"{x:,.0f}\"))\n",
        "ax.set_xlabel(\"Número de pessoas infectadas com a Covid-19\", fontsize=14)\n",
        "ax.set_ylabel(\"\")\n",
        "plt.grid(axis='x')\n",
        "plt.title(\"Número total de casos por Unidade da Federação\", fontsize=22)"
      ],
      "execution_count": 9,
      "outputs": [
        {
          "output_type": "execute_result",
          "data": {
            "text/plain": [
              "Text(0.5, 1.0, 'Número total de casos por Unidade da Federação')"
            ]
          },
          "metadata": {
            "tags": []
          },
          "execution_count": 9
        },
        {
          "output_type": "display_data",
          "data": {
            "image/png": "[encoded data removed]",
            "text/plain": [
              "<Figure size 864x576 with 1 Axes>"
            ]
          },
          "metadata": {
            "tags": [],
            "needs_background": "light"
          }
        }
      ]
    },
    {
      "cell_type": "code",
      "metadata": {
        "id": "gyigx5swC15N",
        "colab": {
          "base_uri": "https://localhost:8080/",
          "height": 505
        },
        "outputId": "bb6fcce6-7021-45f0-b1bb-5f2040824a7f"
      },
      "source": [
        "states_df = states_df.sort_values('death_rate')\n",
        "ax = states_df['death_rate'].plot.bar(figsize=(12,6))\n",
        "ax.set_xlabel(\"\")\n",
        "ax.set_ylabel(\"Taxa de mortalidade\", fontsize=14)\n",
        "plt.grid(axis='y')\n",
        "plt.title(\"Taxa de mortalidade por Unidade da Federação\", fontsize=22)"
      ],
      "execution_count": 10,
      "outputs": [
        {
          "output_type": "execute_result",
          "data": {
            "text/plain": [
              "Text(0.5, 1.0, 'Taxa de mortalidade por Unidade da Federação')"
            ]
          },
          "metadata": {
            "tags": []
          },
          "execution_count": 10
        },
        {
          "output_type": "display_data",
          "data": {
            "image/png": "[encoded data removed]",
            "text/plain": [
              "<Figure size 864x432 with 1 Axes>"
            ]
          },
          "metadata": {
            "tags": [],
            "needs_background": "light"
          }
        }
      ]
    },
    {
      "cell_type": "markdown",
      "metadata": {
        "id": "32QG2FHxHpe8"
      },
      "source": [
        "Trazer referências de outras taxas de mortalidade para poder transmitir uma informação menos abstrata"
      ]
    },
    {
      "cell_type": "code",
      "metadata": {
        "id": "SReVk18sDLzu"
      },
      "source": [
        "df_history = pd.read_csv('/content/drive/MyDrive/Bootcamp/covid19-distrito_federal.csv')"
      ],
      "execution_count": 11,
      "outputs": []
    },
    {
      "cell_type": "code",
      "metadata": {
        "colab": {
          "base_uri": "https://localhost:8080/"
        },
        "id": "IC3eDEtoO0yN",
        "outputId": "a9226ebb-e125-4cf6-cf09-226a239a9ba6"
      },
      "source": [
        "df_history.columns"
      ],
      "execution_count": 12,
      "outputs": [
        {
          "output_type": "execute_result",
          "data": {
            "text/plain": [
              "Index(['date', 'state', 'city', 'place_type', 'confirmed', 'deaths', 'is_last',\n",
              "       'estimated_population', 'city_ibge_code',\n",
              "       'confirmed_per_100k_inhabitants', 'death_rate'],\n",
              "      dtype='object')"
            ]
          },
          "metadata": {
            "tags": []
          },
          "execution_count": 12
        }
      ]
    },
    {
      "cell_type": "code",
      "metadata": {
        "colab": {
          "base_uri": "https://localhost:8080/",
          "height": 391
        },
        "id": "Wkdeff1DO3SG",
        "outputId": "7ba23318-75e9-4d95-f277-c690b39ec974"
      },
      "source": [
        "df_history.death_rate.plot(figsize=(12,6))"
      ],
      "execution_count": 13,
      "outputs": [
        {
          "output_type": "execute_result",
          "data": {
            "text/plain": [
              "<matplotlib.axes._subplots.AxesSubplot at 0x7fb8e9b21e10>"
            ]
          },
          "metadata": {
            "tags": []
          },
          "execution_count": 13
        },
        {
          "output_type": "display_data",
          "data": {
            "image/png": "[encoded data removed]",
            "text/plain": [
              "<Figure size 864x432 with 1 Axes>"
            ]
          },
          "metadata": {
            "tags": [],
            "needs_background": "light"
          }
        }
      ]
    },
    {
      "cell_type": "code",
      "metadata": {
        "colab": {
          "base_uri": "https://localhost:8080/",
          "height": 391
        },
        "id": "3UAJkpExPB0O",
        "outputId": "751894bc-d35b-4364-f941-dd022197597c"
      },
      "source": [
        "df_history = df_history.sort_values('confirmed', ascending=True)\n",
        "df_history.death_rate.plot(figsize=(12,6))"
      ],
      "execution_count": 14,
      "outputs": [
        {
          "output_type": "execute_result",
          "data": {
            "text/plain": [
              "<matplotlib.axes._subplots.AxesSubplot at 0x7fb8e93e0780>"
            ]
          },
          "metadata": {
            "tags": []
          },
          "execution_count": 14
        },
        {
          "output_type": "display_data",
          "data": {
            "image/png": "[encoded data removed]",
            "text/plain": [
              "<Figure size 864x432 with 1 Axes>"
            ]
          },
          "metadata": {
            "tags": [],
            "needs_background": "light"
          }
        }
      ]
    },
    {
      "cell_type": "code",
      "metadata": {
        "id": "S0QLQA3SPP-n"
      },
      "source": [
        "df_history = df_history.set_index('date')"
      ],
      "execution_count": 15,
      "outputs": []
    },
    {
      "cell_type": "code",
      "metadata": {
        "colab": {
          "base_uri": "https://localhost:8080/",
          "height": 405
        },
        "id": "4TbLKJCYQn97",
        "outputId": "3e1906dc-4f50-430a-95d9-2ff6670a4351"
      },
      "source": [
        "df_history.death_rate.plot(figsize=(12,6))"
      ],
      "execution_count": 16,
      "outputs": [
        {
          "output_type": "execute_result",
          "data": {
            "text/plain": [
              "<matplotlib.axes._subplots.AxesSubplot at 0x7fb8e9347ef0>"
            ]
          },
          "metadata": {
            "tags": []
          },
          "execution_count": 16
        },
        {
          "output_type": "display_data",
          "data": {
            "image/png": "[encoded data removed]",
            "text/plain": [
              "<Figure size 864x432 with 1 Axes>"
            ]
          },
          "metadata": {
            "tags": [],
            "needs_background": "light"
          }
        }
      ]
    },
    {
      "cell_type": "code",
      "metadata": {
        "colab": {
          "base_uri": "https://localhost:8080/",
          "height": 405
        },
        "id": "dxwK89f7Qx40",
        "outputId": "54eb3e70-27a8-4494-d1e1-28354f1a93ce"
      },
      "source": [
        "df_history.confirmed.plot(figsize=(12,6))"
      ],
      "execution_count": 17,
      "outputs": [
        {
          "output_type": "execute_result",
          "data": {
            "text/plain": [
              "<matplotlib.axes._subplots.AxesSubplot at 0x7fb8e93189e8>"
            ]
          },
          "metadata": {
            "tags": []
          },
          "execution_count": 17
        },
        {
          "output_type": "display_data",
          "data": {
            "image/png": "[encoded data removed]",
            "text/plain": [
              "<Figure size 864x432 with 1 Axes>"
            ]
          },
          "metadata": {
            "tags": [],
            "needs_background": "light"
          }
        }
      ]
    },
    {
      "cell_type": "code",
      "metadata": {
        "colab": {
          "base_uri": "https://localhost:8080/",
          "height": 238
        },
        "id": "n3MZfFjsQ_WY",
        "outputId": "3865ddb0-0fc9-4a65-b228-6ef0c6f842af"
      },
      "source": [
        "df_history.head()"
      ],
      "execution_count": 18,
      "outputs": [
        {
          "output_type": "execute_result",
          "data": {
            "text/html": [
              "<div>\n",
              "<style scoped>\n",
              "    .dataframe tbody tr th:only-of-type {\n",
              "        vertical-align: middle;\n",
              "    }\n",
              "\n",
              "    .dataframe tbody tr th {\n",
              "        vertical-align: top;\n",
              "    }\n",
              "\n",
              "    .dataframe thead th {\n",
              "        text-align: right;\n",
              "    }\n",
              "</style>\n",
              "<table border=\"1\" class=\"dataframe\">\n",
              "  <thead>\n",
              "    <tr style=\"text-align: right;\">\n",
              "      <th></th>\n",
              "      <th>state</th>\n",
              "      <th>city</th>\n",
              "      <th>place_type</th>\n",
              "      <th>confirmed</th>\n",
              "      <th>deaths</th>\n",
              "      <th>is_last</th>\n",
              "      <th>estimated_population</th>\n",
              "      <th>city_ibge_code</th>\n",
              "      <th>confirmed_per_100k_inhabitants</th>\n",
              "      <th>death_rate</th>\n",
              "    </tr>\n",
              "    <tr>\n",
              "      <th>date</th>\n",
              "      <th></th>\n",
              "      <th></th>\n",
              "      <th></th>\n",
              "      <th></th>\n",
              "      <th></th>\n",
              "      <th></th>\n",
              "      <th></th>\n",
              "      <th></th>\n",
              "      <th></th>\n",
              "      <th></th>\n",
              "    </tr>\n",
              "  </thead>\n",
              "  <tbody>\n",
              "    <tr>\n",
              "      <th>2020-03-07</th>\n",
              "      <td>DF</td>\n",
              "      <td>NaN</td>\n",
              "      <td>state</td>\n",
              "      <td>1</td>\n",
              "      <td>0</td>\n",
              "      <td>False</td>\n",
              "      <td>3055149</td>\n",
              "      <td>53</td>\n",
              "      <td>0.03273</td>\n",
              "      <td>0.0</td>\n",
              "    </tr>\n",
              "    <tr>\n",
              "      <th>2020-03-10</th>\n",
              "      <td>DF</td>\n",
              "      <td>NaN</td>\n",
              "      <td>state</td>\n",
              "      <td>1</td>\n",
              "      <td>0</td>\n",
              "      <td>False</td>\n",
              "      <td>3055149</td>\n",
              "      <td>53</td>\n",
              "      <td>0.03273</td>\n",
              "      <td>0.0</td>\n",
              "    </tr>\n",
              "    <tr>\n",
              "      <th>2020-03-08</th>\n",
              "      <td>DF</td>\n",
              "      <td>NaN</td>\n",
              "      <td>state</td>\n",
              "      <td>1</td>\n",
              "      <td>0</td>\n",
              "      <td>False</td>\n",
              "      <td>3055149</td>\n",
              "      <td>53</td>\n",
              "      <td>0.03273</td>\n",
              "      <td>0.0</td>\n",
              "    </tr>\n",
              "    <tr>\n",
              "      <th>2020-03-09</th>\n",
              "      <td>DF</td>\n",
              "      <td>NaN</td>\n",
              "      <td>state</td>\n",
              "      <td>1</td>\n",
              "      <td>0</td>\n",
              "      <td>False</td>\n",
              "      <td>3055149</td>\n",
              "      <td>53</td>\n",
              "      <td>0.03273</td>\n",
              "      <td>0.0</td>\n",
              "    </tr>\n",
              "    <tr>\n",
              "      <th>2020-03-13</th>\n",
              "      <td>DF</td>\n",
              "      <td>NaN</td>\n",
              "      <td>state</td>\n",
              "      <td>2</td>\n",
              "      <td>0</td>\n",
              "      <td>False</td>\n",
              "      <td>3055149</td>\n",
              "      <td>53</td>\n",
              "      <td>0.06546</td>\n",
              "      <td>0.0</td>\n",
              "    </tr>\n",
              "  </tbody>\n",
              "</table>\n",
              "</div>"
            ],
            "text/plain": [
              "           state  city  ... confirmed_per_100k_inhabitants  death_rate\n",
              "date                    ...                                           \n",
              "2020-03-07    DF   NaN  ...                        0.03273         0.0\n",
              "2020-03-10    DF   NaN  ...                        0.03273         0.0\n",
              "2020-03-08    DF   NaN  ...                        0.03273         0.0\n",
              "2020-03-09    DF   NaN  ...                        0.03273         0.0\n",
              "2020-03-13    DF   NaN  ...                        0.06546         0.0\n",
              "\n",
              "[5 rows x 10 columns]"
            ]
          },
          "metadata": {
            "tags": []
          },
          "execution_count": 18
        }
      ]
    },
    {
      "cell_type": "code",
      "metadata": {
        "id": "8cW_Wm-kQTY5"
      },
      "source": [
        "df_history = df_history.drop(['state', 'city'], axis=1)"
      ],
      "execution_count": 19,
      "outputs": []
    },
    {
      "cell_type": "code",
      "metadata": {
        "colab": {
          "base_uri": "https://localhost:8080/",
          "height": 408
        },
        "id": "VHb9n5OyQlOm",
        "outputId": "f4c54036-8c0d-49fb-803f-cc9603387d02"
      },
      "source": [
        "df_history.deaths.plot(figsize=(12,6))"
      ],
      "execution_count": 20,
      "outputs": [
        {
          "output_type": "execute_result",
          "data": {
            "text/plain": [
              "<matplotlib.axes._subplots.AxesSubplot at 0x7fb8e12b7e80>"
            ]
          },
          "metadata": {
            "tags": []
          },
          "execution_count": 20
        },
        {
          "output_type": "display_data",
          "data": {
            "image/png": "[encoded data removed]",
            "text/plain": [
              "<Figure size 864x432 with 1 Axes>"
            ]
          },
          "metadata": {
            "tags": [],
            "needs_background": "light"
          }
        }
      ]
    },
    {
      "cell_type": "code",
      "metadata": {
        "colab": {
          "base_uri": "https://localhost:8080/",
          "height": 514
        },
        "id": "PFBD8_TvQptC",
        "outputId": "882badff-80a0-4b2e-d822-ade5bf56a02f"
      },
      "source": [
        "df_history[['confirmed', 'deaths']].plot(figsize=(14,8))"
      ],
      "execution_count": 21,
      "outputs": [
        {
          "output_type": "execute_result",
          "data": {
            "text/plain": [
              "<matplotlib.axes._subplots.AxesSubplot at 0x7fb8e903a588>"
            ]
          },
          "metadata": {
            "tags": []
          },
          "execution_count": 21
        },
        {
          "output_type": "display_data",
          "data": {
            "image/png": "[encoded data removed]",
            "text/plain": [
              "<Figure size 1008x576 with 1 Axes>"
            ]
          },
          "metadata": {
            "tags": [],
            "needs_background": "light"
          }
        }
      ]
    },
    {
      "cell_type": "code",
      "metadata": {
        "colab": {
          "base_uri": "https://localhost:8080/",
          "height": 517
        },
        "id": "oMn6cv53Q0AK",
        "outputId": "b16256d3-b384-47bd-8fc9-4870c9ea1125"
      },
      "source": [
        "df_history.deaths.plot(figsize=(14,8))"
      ],
      "execution_count": 22,
      "outputs": [
        {
          "output_type": "execute_result",
          "data": {
            "text/plain": [
              "<matplotlib.axes._subplots.AxesSubplot at 0x7fb8e10ceba8>"
            ]
          },
          "metadata": {
            "tags": []
          },
          "execution_count": 22
        },
        {
          "output_type": "display_data",
          "data": {
            "image/png": "[encoded data removed]",
            "text/plain": [
              "<Figure size 1008x576 with 1 Axes>"
            ]
          },
          "metadata": {
            "tags": [],
            "needs_background": "light"
          }
        }
      ]
    },
    {
      "cell_type": "code",
      "metadata": {
        "colab": {
          "base_uri": "https://localhost:8080/",
          "height": 525
        },
        "id": "CV02Wds4Q4P6",
        "outputId": "33cbdaa3-d128-4b0f-80e0-85f5acbec131"
      },
      "source": [
        "df_history[['confirmed', 'estimated_population']].plot(figsize=(14,8))"
      ],
      "execution_count": 23,
      "outputs": [
        {
          "output_type": "execute_result",
          "data": {
            "text/plain": [
              "<matplotlib.axes._subplots.AxesSubplot at 0x7fb8e104b278>"
            ]
          },
          "metadata": {
            "tags": []
          },
          "execution_count": 23
        },
        {
          "output_type": "display_data",
          "data": {
            "image/png": "[encoded data removed]",
            "text/plain": [
              "<Figure size 1008x576 with 1 Axes>"
            ]
          },
          "metadata": {
            "tags": [],
            "needs_background": "light"
          }
        }
      ]
    },
    {
      "cell_type": "code",
      "metadata": {
        "colab": {
          "base_uri": "https://localhost:8080/",
          "height": 238
        },
        "id": "y8yY4eK2RBdR",
        "outputId": "12d46442-182b-40ed-d0f8-a6c8ac05738f"
      },
      "source": [
        "df_history['proportion'] =  100 / (df_history.estimated_population / df_history.confirmed)\n",
        "\n",
        "df_history.head()"
      ],
      "execution_count": 33,
      "outputs": [
        {
          "output_type": "execute_result",
          "data": {
            "text/html": [
              "<div>\n",
              "<style scoped>\n",
              "    .dataframe tbody tr th:only-of-type {\n",
              "        vertical-align: middle;\n",
              "    }\n",
              "\n",
              "    .dataframe tbody tr th {\n",
              "        vertical-align: top;\n",
              "    }\n",
              "\n",
              "    .dataframe thead th {\n",
              "        text-align: right;\n",
              "    }\n",
              "</style>\n",
              "<table border=\"1\" class=\"dataframe\">\n",
              "  <thead>\n",
              "    <tr style=\"text-align: right;\">\n",
              "      <th></th>\n",
              "      <th>place_type</th>\n",
              "      <th>confirmed</th>\n",
              "      <th>deaths</th>\n",
              "      <th>is_last</th>\n",
              "      <th>estimated_population</th>\n",
              "      <th>city_ibge_code</th>\n",
              "      <th>confirmed_per_100k_inhabitants</th>\n",
              "      <th>death_rate</th>\n",
              "      <th>proportion</th>\n",
              "    </tr>\n",
              "    <tr>\n",
              "      <th>date</th>\n",
              "      <th></th>\n",
              "      <th></th>\n",
              "      <th></th>\n",
              "      <th></th>\n",
              "      <th></th>\n",
              "      <th></th>\n",
              "      <th></th>\n",
              "      <th></th>\n",
              "      <th></th>\n",
              "    </tr>\n",
              "  </thead>\n",
              "  <tbody>\n",
              "    <tr>\n",
              "      <th>2020-03-07</th>\n",
              "      <td>state</td>\n",
              "      <td>1</td>\n",
              "      <td>0</td>\n",
              "      <td>False</td>\n",
              "      <td>3055149</td>\n",
              "      <td>53</td>\n",
              "      <td>0.03273</td>\n",
              "      <td>0.0</td>\n",
              "      <td>0.000033</td>\n",
              "    </tr>\n",
              "    <tr>\n",
              "      <th>2020-03-10</th>\n",
              "      <td>state</td>\n",
              "      <td>1</td>\n",
              "      <td>0</td>\n",
              "      <td>False</td>\n",
              "      <td>3055149</td>\n",
              "      <td>53</td>\n",
              "      <td>0.03273</td>\n",
              "      <td>0.0</td>\n",
              "      <td>0.000033</td>\n",
              "    </tr>\n",
              "    <tr>\n",
              "      <th>2020-03-08</th>\n",
              "      <td>state</td>\n",
              "      <td>1</td>\n",
              "      <td>0</td>\n",
              "      <td>False</td>\n",
              "      <td>3055149</td>\n",
              "      <td>53</td>\n",
              "      <td>0.03273</td>\n",
              "      <td>0.0</td>\n",
              "      <td>0.000033</td>\n",
              "    </tr>\n",
              "    <tr>\n",
              "      <th>2020-03-09</th>\n",
              "      <td>state</td>\n",
              "      <td>1</td>\n",
              "      <td>0</td>\n",
              "      <td>False</td>\n",
              "      <td>3055149</td>\n",
              "      <td>53</td>\n",
              "      <td>0.03273</td>\n",
              "      <td>0.0</td>\n",
              "      <td>0.000033</td>\n",
              "    </tr>\n",
              "    <tr>\n",
              "      <th>2020-03-13</th>\n",
              "      <td>state</td>\n",
              "      <td>2</td>\n",
              "      <td>0</td>\n",
              "      <td>False</td>\n",
              "      <td>3055149</td>\n",
              "      <td>53</td>\n",
              "      <td>0.06546</td>\n",
              "      <td>0.0</td>\n",
              "      <td>0.000065</td>\n",
              "    </tr>\n",
              "  </tbody>\n",
              "</table>\n",
              "</div>"
            ],
            "text/plain": [
              "           place_type  confirmed  ...  death_rate  proportion\n",
              "date                              ...                        \n",
              "2020-03-07      state          1  ...         0.0    0.000033\n",
              "2020-03-10      state          1  ...         0.0    0.000033\n",
              "2020-03-08      state          1  ...         0.0    0.000033\n",
              "2020-03-09      state          1  ...         0.0    0.000033\n",
              "2020-03-13      state          2  ...         0.0    0.000065\n",
              "\n",
              "[5 rows x 9 columns]"
            ]
          },
          "metadata": {
            "tags": []
          },
          "execution_count": 33
        }
      ]
    },
    {
      "cell_type": "code",
      "metadata": {
        "colab": {
          "base_uri": "https://localhost:8080/",
          "height": 514
        },
        "id": "CMdl1UD-RN09",
        "outputId": "be15d567-6480-406b-bfa3-1e7205e27356"
      },
      "source": [
        "df_history.proportion.plot(figsize=(14,8))"
      ],
      "execution_count": 34,
      "outputs": [
        {
          "output_type": "execute_result",
          "data": {
            "text/plain": [
              "<matplotlib.axes._subplots.AxesSubplot at 0x7fb8dfc1d978>"
            ]
          },
          "metadata": {
            "tags": []
          },
          "execution_count": 34
        },
        {
          "output_type": "display_data",
          "data": {
            "image/png": "[encoded data removed]",
            "text/plain": [
              "<Figure size 1008x576 with 1 Axes>"
            ]
          },
          "metadata": {
            "tags": [],
            "needs_background": "light"
          }
        }
      ]
    },
    {
      "cell_type": "code",
      "metadata": {
        "colab": {
          "base_uri": "https://localhost:8080/",
          "height": 238
        },
        "id": "YvKOco9mRU43",
        "outputId": "022997e0-cf86-4174-ee80-6656a6af31f1"
      },
      "source": [
        "df_history.tail()"
      ],
      "execution_count": 32,
      "outputs": [
        {
          "output_type": "execute_result",
          "data": {
            "text/html": [
              "<div>\n",
              "<style scoped>\n",
              "    .dataframe tbody tr th:only-of-type {\n",
              "        vertical-align: middle;\n",
              "    }\n",
              "\n",
              "    .dataframe tbody tr th {\n",
              "        vertical-align: top;\n",
              "    }\n",
              "\n",
              "    .dataframe thead th {\n",
              "        text-align: right;\n",
              "    }\n",
              "</style>\n",
              "<table border=\"1\" class=\"dataframe\">\n",
              "  <thead>\n",
              "    <tr style=\"text-align: right;\">\n",
              "      <th></th>\n",
              "      <th>place_type</th>\n",
              "      <th>confirmed</th>\n",
              "      <th>deaths</th>\n",
              "      <th>is_last</th>\n",
              "      <th>estimated_population</th>\n",
              "      <th>city_ibge_code</th>\n",
              "      <th>confirmed_per_100k_inhabitants</th>\n",
              "      <th>death_rate</th>\n",
              "      <th>proportion</th>\n",
              "    </tr>\n",
              "    <tr>\n",
              "      <th>date</th>\n",
              "      <th></th>\n",
              "      <th></th>\n",
              "      <th></th>\n",
              "      <th></th>\n",
              "      <th></th>\n",
              "      <th></th>\n",
              "      <th></th>\n",
              "      <th></th>\n",
              "      <th></th>\n",
              "    </tr>\n",
              "  </thead>\n",
              "  <tbody>\n",
              "    <tr>\n",
              "      <th>2020-11-11</th>\n",
              "      <td>state</td>\n",
              "      <td>217793</td>\n",
              "      <td>3788</td>\n",
              "      <td>False</td>\n",
              "      <td>3055149</td>\n",
              "      <td>53</td>\n",
              "      <td>7128.71942</td>\n",
              "      <td>0.0174</td>\n",
              "      <td>7.128719</td>\n",
              "    </tr>\n",
              "    <tr>\n",
              "      <th>2020-11-12</th>\n",
              "      <td>state</td>\n",
              "      <td>218479</td>\n",
              "      <td>3797</td>\n",
              "      <td>False</td>\n",
              "      <td>3055149</td>\n",
              "      <td>53</td>\n",
              "      <td>7151.17331</td>\n",
              "      <td>0.0174</td>\n",
              "      <td>7.151173</td>\n",
              "    </tr>\n",
              "    <tr>\n",
              "      <th>2020-11-13</th>\n",
              "      <td>state</td>\n",
              "      <td>219012</td>\n",
              "      <td>3808</td>\n",
              "      <td>False</td>\n",
              "      <td>3055149</td>\n",
              "      <td>53</td>\n",
              "      <td>7168.61927</td>\n",
              "      <td>0.0174</td>\n",
              "      <td>7.168619</td>\n",
              "    </tr>\n",
              "    <tr>\n",
              "      <th>2020-11-14</th>\n",
              "      <td>state</td>\n",
              "      <td>219712</td>\n",
              "      <td>3813</td>\n",
              "      <td>False</td>\n",
              "      <td>3055149</td>\n",
              "      <td>53</td>\n",
              "      <td>7191.53141</td>\n",
              "      <td>0.0174</td>\n",
              "      <td>7.191531</td>\n",
              "    </tr>\n",
              "    <tr>\n",
              "      <th>2020-11-15</th>\n",
              "      <td>state</td>\n",
              "      <td>219992</td>\n",
              "      <td>3817</td>\n",
              "      <td>False</td>\n",
              "      <td>3055149</td>\n",
              "      <td>53</td>\n",
              "      <td>7200.69627</td>\n",
              "      <td>0.0174</td>\n",
              "      <td>7.200696</td>\n",
              "    </tr>\n",
              "  </tbody>\n",
              "</table>\n",
              "</div>"
            ],
            "text/plain": [
              "           place_type  confirmed  ...  death_rate  proportion\n",
              "date                              ...                        \n",
              "2020-11-11      state     217793  ...      0.0174    7.128719\n",
              "2020-11-12      state     218479  ...      0.0174    7.151173\n",
              "2020-11-13      state     219012  ...      0.0174    7.168619\n",
              "2020-11-14      state     219712  ...      0.0174    7.191531\n",
              "2020-11-15      state     219992  ...      0.0174    7.200696\n",
              "\n",
              "[5 rows x 9 columns]"
            ]
          },
          "metadata": {
            "tags": []
          },
          "execution_count": 32
        }
      ]
    },
    {
      "cell_type": "code",
      "metadata": {
        "colab": {
          "base_uri": "https://localhost:8080/"
        },
        "id": "6oJdKvNjRcvp",
        "outputId": "dcf6fe6e-08cb-4e26-c861-24881d741740"
      },
      "source": [
        "100/13.887546"
      ],
      "execution_count": 28,
      "outputs": [
        {
          "output_type": "execute_result",
          "data": {
            "text/plain": [
              "7.200696220916208"
            ]
          },
          "metadata": {
            "tags": []
          },
          "execution_count": 28
        }
      ]
    },
    {
      "cell_type": "code",
      "metadata": {
        "id": "jatWUkH6RoMs"
      },
      "source": [
        "df_history['death_proportion'] =  100 / (df_history.estimated_population / df_history.deaths)"
      ],
      "execution_count": 36,
      "outputs": []
    },
    {
      "cell_type": "code",
      "metadata": {
        "colab": {
          "base_uri": "https://localhost:8080/",
          "height": 238
        },
        "id": "GJCDVrSgSaph",
        "outputId": "2a3ccc12-c39e-4a8a-d2f7-5280c93f09fb"
      },
      "source": [
        "df_history.head()"
      ],
      "execution_count": 37,
      "outputs": [
        {
          "output_type": "execute_result",
          "data": {
            "text/html": [
              "<div>\n",
              "<style scoped>\n",
              "    .dataframe tbody tr th:only-of-type {\n",
              "        vertical-align: middle;\n",
              "    }\n",
              "\n",
              "    .dataframe tbody tr th {\n",
              "        vertical-align: top;\n",
              "    }\n",
              "\n",
              "    .dataframe thead th {\n",
              "        text-align: right;\n",
              "    }\n",
              "</style>\n",
              "<table border=\"1\" class=\"dataframe\">\n",
              "  <thead>\n",
              "    <tr style=\"text-align: right;\">\n",
              "      <th></th>\n",
              "      <th>place_type</th>\n",
              "      <th>confirmed</th>\n",
              "      <th>deaths</th>\n",
              "      <th>is_last</th>\n",
              "      <th>estimated_population</th>\n",
              "      <th>city_ibge_code</th>\n",
              "      <th>confirmed_per_100k_inhabitants</th>\n",
              "      <th>death_rate</th>\n",
              "      <th>proportion</th>\n",
              "      <th>death_proportion</th>\n",
              "    </tr>\n",
              "    <tr>\n",
              "      <th>date</th>\n",
              "      <th></th>\n",
              "      <th></th>\n",
              "      <th></th>\n",
              "      <th></th>\n",
              "      <th></th>\n",
              "      <th></th>\n",
              "      <th></th>\n",
              "      <th></th>\n",
              "      <th></th>\n",
              "      <th></th>\n",
              "    </tr>\n",
              "  </thead>\n",
              "  <tbody>\n",
              "    <tr>\n",
              "      <th>2020-03-07</th>\n",
              "      <td>state</td>\n",
              "      <td>1</td>\n",
              "      <td>0</td>\n",
              "      <td>False</td>\n",
              "      <td>3055149</td>\n",
              "      <td>53</td>\n",
              "      <td>0.03273</td>\n",
              "      <td>0.0</td>\n",
              "      <td>0.000033</td>\n",
              "      <td>0.0</td>\n",
              "    </tr>\n",
              "    <tr>\n",
              "      <th>2020-03-10</th>\n",
              "      <td>state</td>\n",
              "      <td>1</td>\n",
              "      <td>0</td>\n",
              "      <td>False</td>\n",
              "      <td>3055149</td>\n",
              "      <td>53</td>\n",
              "      <td>0.03273</td>\n",
              "      <td>0.0</td>\n",
              "      <td>0.000033</td>\n",
              "      <td>0.0</td>\n",
              "    </tr>\n",
              "    <tr>\n",
              "      <th>2020-03-08</th>\n",
              "      <td>state</td>\n",
              "      <td>1</td>\n",
              "      <td>0</td>\n",
              "      <td>False</td>\n",
              "      <td>3055149</td>\n",
              "      <td>53</td>\n",
              "      <td>0.03273</td>\n",
              "      <td>0.0</td>\n",
              "      <td>0.000033</td>\n",
              "      <td>0.0</td>\n",
              "    </tr>\n",
              "    <tr>\n",
              "      <th>2020-03-09</th>\n",
              "      <td>state</td>\n",
              "      <td>1</td>\n",
              "      <td>0</td>\n",
              "      <td>False</td>\n",
              "      <td>3055149</td>\n",
              "      <td>53</td>\n",
              "      <td>0.03273</td>\n",
              "      <td>0.0</td>\n",
              "      <td>0.000033</td>\n",
              "      <td>0.0</td>\n",
              "    </tr>\n",
              "    <tr>\n",
              "      <th>2020-03-13</th>\n",
              "      <td>state</td>\n",
              "      <td>2</td>\n",
              "      <td>0</td>\n",
              "      <td>False</td>\n",
              "      <td>3055149</td>\n",
              "      <td>53</td>\n",
              "      <td>0.06546</td>\n",
              "      <td>0.0</td>\n",
              "      <td>0.000065</td>\n",
              "      <td>0.0</td>\n",
              "    </tr>\n",
              "  </tbody>\n",
              "</table>\n",
              "</div>"
            ],
            "text/plain": [
              "           place_type  confirmed  ...  proportion  death_proportion\n",
              "date                              ...                              \n",
              "2020-03-07      state          1  ...    0.000033               0.0\n",
              "2020-03-10      state          1  ...    0.000033               0.0\n",
              "2020-03-08      state          1  ...    0.000033               0.0\n",
              "2020-03-09      state          1  ...    0.000033               0.0\n",
              "2020-03-13      state          2  ...    0.000065               0.0\n",
              "\n",
              "[5 rows x 10 columns]"
            ]
          },
          "metadata": {
            "tags": []
          },
          "execution_count": 37
        }
      ]
    },
    {
      "cell_type": "code",
      "metadata": {
        "id": "5ftd2JQcSdvV"
      },
      "source": [
        ""
      ],
      "execution_count": null,
      "outputs": []
    }
  ]
}