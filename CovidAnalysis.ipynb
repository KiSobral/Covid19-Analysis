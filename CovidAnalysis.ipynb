{
  "nbformat": 4,
  "nbformat_minor": 0,
  "metadata": {
    "colab": {
      "name": "CovidAnalysis.ipynb",
      "provenance": [],
      "mount_file_id": "1qIWqH_v-uIRwf5kmfL-oVnxBBVBocyVe",
      "authorship_tag": "ABX9TyMH4dF5TAUBSIsLDgJ/dN09",
      "include_colab_link": true
    },
    "kernelspec": {
      "name": "python3",
      "display_name": "Python 3"
    }
  },
  "cells": [
    {
      "cell_type": "markdown",
      "metadata": {
        "id": "view-in-github",
        "colab_type": "text"
      },
      "source": [
        "<a href=\"https://colab.research.google.com/github/KiSobral/Covid19-Analysis/blob/main/CovidAnalysis.ipynb\" target=\"_parent\"><img src=\"https://colab.research.google.com/assets/colab-badge.svg\" alt=\"Open In Colab\"/></a>"
      ]
    },
    {
      "cell_type": "code",
      "metadata": {
        "id": "czkNSfgPvCn0"
      },
      "source": [
        "import pandas as pd\n",
        "import matplotlib.pyplot as plt\n",
        "import matplotlib.ticker as ticker"
      ],
      "execution_count": 1,
      "outputs": []
    },
    {
      "cell_type": "code",
      "metadata": {
        "id": "zyd0dDyTvFwE"
      },
      "source": [
        "states_df = pd.read_csv('covid19-8be008a6f7a14dec9e22a3c1696abcb4.csv')"
      ],
      "execution_count": 2,
      "outputs": []
    },
    {
      "cell_type": "code",
      "metadata": {
        "id": "cy-1o6bjvZ5c",
        "outputId": "7444bb72-412e-4fa2-c7aa-d0add8f32ee2",
        "colab": {
          "base_uri": "https://localhost:8080/"
        }
      },
      "source": [
        "states_df.columns"
      ],
      "execution_count": 3,
      "outputs": [
        {
          "output_type": "execute_result",
          "data": {
            "text/plain": [
              "Index(['date', 'state', 'city', 'place_type', 'confirmed', 'deaths', 'is_last',\n",
              "       'estimated_population', 'city_ibge_code',\n",
              "       'confirmed_per_100k_inhabitants', 'death_rate'],\n",
              "      dtype='object')"
            ]
          },
          "metadata": {
            "tags": []
          },
          "execution_count": 3
        }
      ]
    },
    {
      "cell_type": "code",
      "metadata": {
        "id": "dAi0LoVEvcl_",
        "outputId": "f055634b-dc06-489e-ec72-34df17071f6d",
        "colab": {
          "base_uri": "https://localhost:8080/",
          "height": 206
        }
      },
      "source": [
        "states_df.head()"
      ],
      "execution_count": 4,
      "outputs": [
        {
          "output_type": "execute_result",
          "data": {
            "text/html": [
              "<div>\n",
              "<style scoped>\n",
              "    .dataframe tbody tr th:only-of-type {\n",
              "        vertical-align: middle;\n",
              "    }\n",
              "\n",
              "    .dataframe tbody tr th {\n",
              "        vertical-align: top;\n",
              "    }\n",
              "\n",
              "    .dataframe thead th {\n",
              "        text-align: right;\n",
              "    }\n",
              "</style>\n",
              "<table border=\"1\" class=\"dataframe\">\n",
              "  <thead>\n",
              "    <tr style=\"text-align: right;\">\n",
              "      <th></th>\n",
              "      <th>date</th>\n",
              "      <th>state</th>\n",
              "      <th>city</th>\n",
              "      <th>place_type</th>\n",
              "      <th>confirmed</th>\n",
              "      <th>deaths</th>\n",
              "      <th>is_last</th>\n",
              "      <th>estimated_population</th>\n",
              "      <th>city_ibge_code</th>\n",
              "      <th>confirmed_per_100k_inhabitants</th>\n",
              "      <th>death_rate</th>\n",
              "    </tr>\n",
              "  </thead>\n",
              "  <tbody>\n",
              "    <tr>\n",
              "      <th>0</th>\n",
              "      <td>2020-11-11</td>\n",
              "      <td>AC</td>\n",
              "      <td>NaN</td>\n",
              "      <td>state</td>\n",
              "      <td>32113</td>\n",
              "      <td>705</td>\n",
              "      <td>True</td>\n",
              "      <td>894470</td>\n",
              "      <td>12</td>\n",
              "      <td>3590.17072</td>\n",
              "      <td>0.0220</td>\n",
              "    </tr>\n",
              "    <tr>\n",
              "      <th>1</th>\n",
              "      <td>2020-11-11</td>\n",
              "      <td>AL</td>\n",
              "      <td>NaN</td>\n",
              "      <td>state</td>\n",
              "      <td>92040</td>\n",
              "      <td>2282</td>\n",
              "      <td>True</td>\n",
              "      <td>3351543</td>\n",
              "      <td>27</td>\n",
              "      <td>2746.19780</td>\n",
              "      <td>0.0248</td>\n",
              "    </tr>\n",
              "    <tr>\n",
              "      <th>2</th>\n",
              "      <td>2020-11-11</td>\n",
              "      <td>AM</td>\n",
              "      <td>NaN</td>\n",
              "      <td>state</td>\n",
              "      <td>167486</td>\n",
              "      <td>4655</td>\n",
              "      <td>True</td>\n",
              "      <td>4207714</td>\n",
              "      <td>13</td>\n",
              "      <td>3980.45114</td>\n",
              "      <td>0.0278</td>\n",
              "    </tr>\n",
              "    <tr>\n",
              "      <th>3</th>\n",
              "      <td>2020-11-11</td>\n",
              "      <td>AP</td>\n",
              "      <td>NaN</td>\n",
              "      <td>state</td>\n",
              "      <td>53790</td>\n",
              "      <td>770</td>\n",
              "      <td>True</td>\n",
              "      <td>861773</td>\n",
              "      <td>16</td>\n",
              "      <td>6241.78293</td>\n",
              "      <td>0.0143</td>\n",
              "    </tr>\n",
              "    <tr>\n",
              "      <th>4</th>\n",
              "      <td>2020-11-11</td>\n",
              "      <td>BA</td>\n",
              "      <td>NaN</td>\n",
              "      <td>state</td>\n",
              "      <td>367669</td>\n",
              "      <td>7859</td>\n",
              "      <td>True</td>\n",
              "      <td>14930634</td>\n",
              "      <td>29</td>\n",
              "      <td>2462.51432</td>\n",
              "      <td>0.0214</td>\n",
              "    </tr>\n",
              "  </tbody>\n",
              "</table>\n",
              "</div>"
            ],
            "text/plain": [
              "         date state  ...  confirmed_per_100k_inhabitants death_rate\n",
              "0  2020-11-11    AC  ...                      3590.17072     0.0220\n",
              "1  2020-11-11    AL  ...                      2746.19780     0.0248\n",
              "2  2020-11-11    AM  ...                      3980.45114     0.0278\n",
              "3  2020-11-11    AP  ...                      6241.78293     0.0143\n",
              "4  2020-11-11    BA  ...                      2462.51432     0.0214\n",
              "\n",
              "[5 rows x 11 columns]"
            ]
          },
          "metadata": {
            "tags": []
          },
          "execution_count": 4
        }
      ]
    },
    {
      "cell_type": "code",
      "metadata": {
        "id": "lSDTB4VZvj3P"
      },
      "source": [
        "states_df = states_df.drop([\"city\", \"place_type\"], axis=1)"
      ],
      "execution_count": 5,
      "outputs": []
    },
    {
      "cell_type": "code",
      "metadata": {
        "id": "8qjMJY5FvnPc",
        "outputId": "dc2a650c-b36b-4e8c-83c2-ba4ff5fb0268",
        "colab": {
          "base_uri": "https://localhost:8080/",
          "height": 206
        }
      },
      "source": [
        "states_df.head()"
      ],
      "execution_count": 6,
      "outputs": [
        {
          "output_type": "execute_result",
          "data": {
            "text/html": [
              "<div>\n",
              "<style scoped>\n",
              "    .dataframe tbody tr th:only-of-type {\n",
              "        vertical-align: middle;\n",
              "    }\n",
              "\n",
              "    .dataframe tbody tr th {\n",
              "        vertical-align: top;\n",
              "    }\n",
              "\n",
              "    .dataframe thead th {\n",
              "        text-align: right;\n",
              "    }\n",
              "</style>\n",
              "<table border=\"1\" class=\"dataframe\">\n",
              "  <thead>\n",
              "    <tr style=\"text-align: right;\">\n",
              "      <th></th>\n",
              "      <th>date</th>\n",
              "      <th>state</th>\n",
              "      <th>confirmed</th>\n",
              "      <th>deaths</th>\n",
              "      <th>is_last</th>\n",
              "      <th>estimated_population</th>\n",
              "      <th>city_ibge_code</th>\n",
              "      <th>confirmed_per_100k_inhabitants</th>\n",
              "      <th>death_rate</th>\n",
              "    </tr>\n",
              "  </thead>\n",
              "  <tbody>\n",
              "    <tr>\n",
              "      <th>0</th>\n",
              "      <td>2020-11-11</td>\n",
              "      <td>AC</td>\n",
              "      <td>32113</td>\n",
              "      <td>705</td>\n",
              "      <td>True</td>\n",
              "      <td>894470</td>\n",
              "      <td>12</td>\n",
              "      <td>3590.17072</td>\n",
              "      <td>0.0220</td>\n",
              "    </tr>\n",
              "    <tr>\n",
              "      <th>1</th>\n",
              "      <td>2020-11-11</td>\n",
              "      <td>AL</td>\n",
              "      <td>92040</td>\n",
              "      <td>2282</td>\n",
              "      <td>True</td>\n",
              "      <td>3351543</td>\n",
              "      <td>27</td>\n",
              "      <td>2746.19780</td>\n",
              "      <td>0.0248</td>\n",
              "    </tr>\n",
              "    <tr>\n",
              "      <th>2</th>\n",
              "      <td>2020-11-11</td>\n",
              "      <td>AM</td>\n",
              "      <td>167486</td>\n",
              "      <td>4655</td>\n",
              "      <td>True</td>\n",
              "      <td>4207714</td>\n",
              "      <td>13</td>\n",
              "      <td>3980.45114</td>\n",
              "      <td>0.0278</td>\n",
              "    </tr>\n",
              "    <tr>\n",
              "      <th>3</th>\n",
              "      <td>2020-11-11</td>\n",
              "      <td>AP</td>\n",
              "      <td>53790</td>\n",
              "      <td>770</td>\n",
              "      <td>True</td>\n",
              "      <td>861773</td>\n",
              "      <td>16</td>\n",
              "      <td>6241.78293</td>\n",
              "      <td>0.0143</td>\n",
              "    </tr>\n",
              "    <tr>\n",
              "      <th>4</th>\n",
              "      <td>2020-11-11</td>\n",
              "      <td>BA</td>\n",
              "      <td>367669</td>\n",
              "      <td>7859</td>\n",
              "      <td>True</td>\n",
              "      <td>14930634</td>\n",
              "      <td>29</td>\n",
              "      <td>2462.51432</td>\n",
              "      <td>0.0214</td>\n",
              "    </tr>\n",
              "  </tbody>\n",
              "</table>\n",
              "</div>"
            ],
            "text/plain": [
              "         date state  ...  confirmed_per_100k_inhabitants  death_rate\n",
              "0  2020-11-11    AC  ...                      3590.17072      0.0220\n",
              "1  2020-11-11    AL  ...                      2746.19780      0.0248\n",
              "2  2020-11-11    AM  ...                      3980.45114      0.0278\n",
              "3  2020-11-11    AP  ...                      6241.78293      0.0143\n",
              "4  2020-11-11    BA  ...                      2462.51432      0.0214\n",
              "\n",
              "[5 rows x 9 columns]"
            ]
          },
          "metadata": {
            "tags": []
          },
          "execution_count": 6
        }
      ]
    },
    {
      "cell_type": "code",
      "metadata": {
        "id": "dYNCxLgYv5se",
        "outputId": "4656f8c3-650e-424e-c88c-fab4eee07ee4",
        "colab": {
          "base_uri": "https://localhost:8080/",
          "height": 238
        }
      },
      "source": [
        "uf_map = {\n",
        "    'AC': 'Acre',\n",
        "    'AL': 'Alagoas',\n",
        "    'AM': 'Amazonas',\n",
        "    'AP': 'Amapá',\n",
        "    'BA': 'Bahia',\n",
        "    'CE': 'Ceará',\n",
        "    'DF': 'Distrito Federal',\n",
        "    'ES': 'Espírito Santo',\n",
        "    'GO': 'Goiás',\n",
        "    'MA': 'Maranhão',\n",
        "    'MG': 'Minas Gerais',\n",
        "    'MT': 'Mato Grosso',\n",
        "    'PA': 'Pará',\n",
        "    'PB': 'Paraíba',\n",
        "    'PE': 'Pernambuco',\n",
        "    'PI': 'Piauí',\n",
        "    'PR': 'Paraná',\n",
        "    'RJ': 'Rio de Janeiro',\n",
        "    'RO': 'Rondônia',\n",
        "    'RS': 'Rio Grande do Sul',\n",
        "    'SC': 'Santa Catarina',\n",
        "    'SE': 'Sergipe',\n",
        "    'SP': 'São Paulo',\n",
        "    'MS': 'Mato Grosso do Sul',\n",
        "    'RN': 'Rio Grande do Norte',\n",
        "    'RR': 'Roraima',\n",
        "    'TO': 'Tocantins',\n",
        "}\n",
        "\n",
        "states_df['state'] = states_df['state'].apply(lambda x: uf_map[x])\n",
        "states_df = states_df.set_index('state')\n",
        "states_df.head()"
      ],
      "execution_count": 7,
      "outputs": [
        {
          "output_type": "execute_result",
          "data": {
            "text/html": [
              "<div>\n",
              "<style scoped>\n",
              "    .dataframe tbody tr th:only-of-type {\n",
              "        vertical-align: middle;\n",
              "    }\n",
              "\n",
              "    .dataframe tbody tr th {\n",
              "        vertical-align: top;\n",
              "    }\n",
              "\n",
              "    .dataframe thead th {\n",
              "        text-align: right;\n",
              "    }\n",
              "</style>\n",
              "<table border=\"1\" class=\"dataframe\">\n",
              "  <thead>\n",
              "    <tr style=\"text-align: right;\">\n",
              "      <th></th>\n",
              "      <th>date</th>\n",
              "      <th>confirmed</th>\n",
              "      <th>deaths</th>\n",
              "      <th>is_last</th>\n",
              "      <th>estimated_population</th>\n",
              "      <th>city_ibge_code</th>\n",
              "      <th>confirmed_per_100k_inhabitants</th>\n",
              "      <th>death_rate</th>\n",
              "    </tr>\n",
              "    <tr>\n",
              "      <th>state</th>\n",
              "      <th></th>\n",
              "      <th></th>\n",
              "      <th></th>\n",
              "      <th></th>\n",
              "      <th></th>\n",
              "      <th></th>\n",
              "      <th></th>\n",
              "      <th></th>\n",
              "    </tr>\n",
              "  </thead>\n",
              "  <tbody>\n",
              "    <tr>\n",
              "      <th>Acre</th>\n",
              "      <td>2020-11-11</td>\n",
              "      <td>32113</td>\n",
              "      <td>705</td>\n",
              "      <td>True</td>\n",
              "      <td>894470</td>\n",
              "      <td>12</td>\n",
              "      <td>3590.17072</td>\n",
              "      <td>0.0220</td>\n",
              "    </tr>\n",
              "    <tr>\n",
              "      <th>Alagoas</th>\n",
              "      <td>2020-11-11</td>\n",
              "      <td>92040</td>\n",
              "      <td>2282</td>\n",
              "      <td>True</td>\n",
              "      <td>3351543</td>\n",
              "      <td>27</td>\n",
              "      <td>2746.19780</td>\n",
              "      <td>0.0248</td>\n",
              "    </tr>\n",
              "    <tr>\n",
              "      <th>Amazonas</th>\n",
              "      <td>2020-11-11</td>\n",
              "      <td>167486</td>\n",
              "      <td>4655</td>\n",
              "      <td>True</td>\n",
              "      <td>4207714</td>\n",
              "      <td>13</td>\n",
              "      <td>3980.45114</td>\n",
              "      <td>0.0278</td>\n",
              "    </tr>\n",
              "    <tr>\n",
              "      <th>Amapá</th>\n",
              "      <td>2020-11-11</td>\n",
              "      <td>53790</td>\n",
              "      <td>770</td>\n",
              "      <td>True</td>\n",
              "      <td>861773</td>\n",
              "      <td>16</td>\n",
              "      <td>6241.78293</td>\n",
              "      <td>0.0143</td>\n",
              "    </tr>\n",
              "    <tr>\n",
              "      <th>Bahia</th>\n",
              "      <td>2020-11-11</td>\n",
              "      <td>367669</td>\n",
              "      <td>7859</td>\n",
              "      <td>True</td>\n",
              "      <td>14930634</td>\n",
              "      <td>29</td>\n",
              "      <td>2462.51432</td>\n",
              "      <td>0.0214</td>\n",
              "    </tr>\n",
              "  </tbody>\n",
              "</table>\n",
              "</div>"
            ],
            "text/plain": [
              "                date  confirmed  ...  confirmed_per_100k_inhabitants  death_rate\n",
              "state                            ...                                            \n",
              "Acre      2020-11-11      32113  ...                      3590.17072      0.0220\n",
              "Alagoas   2020-11-11      92040  ...                      2746.19780      0.0248\n",
              "Amazonas  2020-11-11     167486  ...                      3980.45114      0.0278\n",
              "Amapá     2020-11-11      53790  ...                      6241.78293      0.0143\n",
              "Bahia     2020-11-11     367669  ...                      2462.51432      0.0214\n",
              "\n",
              "[5 rows x 8 columns]"
            ]
          },
          "metadata": {
            "tags": []
          },
          "execution_count": 7
        }
      ]
    },
    {
      "cell_type": "code",
      "metadata": {
        "id": "oIzmNoYeF7lT"
      },
      "source": [
        "states_df = states_df.sort_values('confirmed')"
      ],
      "execution_count": 8,
      "outputs": []
    },
    {
      "cell_type": "code",
      "metadata": {
        "id": "HMA5m6AECaoP",
        "outputId": "ca83f8cc-2075-4924-96bf-48b06a1151d6",
        "colab": {
          "base_uri": "https://localhost:8080/",
          "height": 542
        }
      },
      "source": [
        "ax = states_df.confirmed.plot(kind=\"barh\", figsize=(12,8))\n",
        "ax.xaxis.set_major_formatter(ticker.StrMethodFormatter(\"{x:,.0f}\"))\n",
        "ax.set_xlabel(\"Número de pessoas infectadas com a Covid-19\", fontsize=14)\n",
        "ax.set_ylabel(\"Unidade da Federação\", fontsize=14)\n",
        "plt.grid(axis='x')\n",
        "plt.title(\"Número total de casos por Unidade da Federação\", fontsize=22)"
      ],
      "execution_count": 9,
      "outputs": [
        {
          "output_type": "execute_result",
          "data": {
            "text/plain": [
              "Text(0.5, 1.0, 'Número total de casos por Unidade da Federação')"
            ]
          },
          "metadata": {
            "tags": []
          },
          "execution_count": 9
        },
        {
          "output_type": "display_data",
          "data": {
            "image/png": "[encoded data removed]",
            "text/plain": [
              "<Figure size 864x576 with 1 Axes>"
            ]
          },
          "metadata": {
            "tags": [],
            "needs_background": "light"
          }
        }
      ]
    },
    {
      "cell_type": "code",
      "metadata": {
        "id": "gyigx5swC15N"
      },
      "source": [
        ""
      ],
      "execution_count": 9,
      "outputs": []
    }
  ]
}